{
 "cells": [
  {
   "cell_type": "code",
   "execution_count": 2,
   "id": "976bd02c",
   "metadata": {},
   "outputs": [],
   "source": [
    "# Para instalar o selenium digite no cmd: pip install selenium\n",
    "# Necessário também baixar o webdriver de acordo com o seu navegador, o chromedriver já está na página do projeto, pode usar ele\n",
    "# Uso o Chrome, baixei um arquivo no site e colei na pasta do projeto.\n",
    "from selenium import webdriver # biblioteca que vai abrir no navegador, apertar os botões e dar os htmls\n",
    "#from selenium.webdriver.common.keys import Keys \n",
    "from selenium.webdriver.common.by import By # Usado para identificar as coisas no site(botões, campos de texto)\n",
    "from time import sleep # sleep(x) faz o programa aguardar x segundos para prosseguir para a próxima linha de código.\n",
    "from bs4 import BeautifulSoup # Pega um código html e nos permite usar funções especiais para explorá-lo\n",
    "import pandas as pd # Usado para criar e manipular Dataframes(objetos que representam planilhas)\n",
    "import openpyxl # Vai servir como parâmentro na função ExcelWriter, para podermos manipular os arquivos excel(xlsx)"
   ]
  },
  {
   "cell_type": "code",
   "execution_count": 3,
   "id": "f8269f9d",
   "metadata": {},
   "outputs": [
    {
     "data": {
      "text/plain": [
       "\"\\nOs links dos resultados seguem o seguinte formato:\\n'http://qselecao.ifce.edu.br/resultado_nomes.aspx?COD_REGRA_CLASSIFICACAO=XXXXX'\\nO que muda é apenas o XXXXX, sendo eles um dos números da lista_links, cada link é a tabela de resultados de um curso.\\nResolvi criar essa lista para não ter que escrever o http://qselecao... 6 vezes.\\n\""
      ]
     },
     "execution_count": 3,
     "metadata": {},
     "output_type": "execute_result"
    }
   ],
   "source": [
    "lista_links = [10323, 10325, 10327, 10343, 10345, 10347]\n",
    "\"\"\"\n",
    "Os links dos resultados seguem o seguinte formato:\n",
    "'http://qselecao.ifce.edu.br/resultado_nomes.aspx?COD_REGRA_CLASSIFICACAO=XXXXX'\n",
    "O que muda é apenas o XXXXX, sendo eles um dos números da lista_links, cada link é a tabela de resultados de um curso.\n",
    "Resolvi criar essa lista para não ter que escrever o http://qselecao... 6 vezes.\n",
    "\"\"\""
   ]
  },
  {
   "cell_type": "code",
   "execution_count": 4,
   "id": "c97efddc",
   "metadata": {},
   "outputs": [],
   "source": [
    "\n",
    "navegador = webdriver.Chrome() \n",
    "\n",
    "listaDfPrincipal = [] \n",
    "\n",
    "posDfPrincipal = 0 \n",
    "for i in lista_links: \n",
    "    navegador.get('http://qselecao.ifce.edu.br/resultado_nomes.aspx?COD_REGRA_CLASSIFICACAO='+str(i))\n",
    "    sleep(1) \n",
    "    botaoClassificacao = navegador.find_element(By.ID, 'ctl00_ContentPlaceHolderPrincipal_rblOrdenacao_1')\n",
    "    botaoClassificacao.click() \n",
    "    sleep(1)\n",
    "    soup = BeautifulSoup(navegador.page_source, 'html.parser')\n",
    "    tabela = soup.find(id='ctl00_ContentPlaceHolderPrincipal_wucResultados1_grvConsulta')\n",
    "    listaDataframes = pd.read_html(str(tabela))\n",
    "    listaDfPrincipal.append(listaDataframes[0])\n",
    "    sleep(1)\n",
    "    for a in range(8):\n",
    "        botaoCotas = navegador.find_element(By.ID, 'ctl00_ContentPlaceHolderPrincipal_wucSelecionarCota1_rblCotas_'+str(a+1))\n",
    "        botaoCotas.click() \n",
    "        page = navegador.page_source\n",
    "        soup = BeautifulSoup(page, 'html.parser')\n",
    "        tabelaCotas = soup.find(id='ctl00_ContentPlaceHolderPrincipal_wucResultados1_grvConsulta')\n",
    "        if tabelaCotas != None:\n",
    "            dfTabelaCotas = pd.read_html(str(tabelaCotas))\n",
    "            listaDfPrincipal[posDfPrincipal] = pd.concat([listaDfPrincipal[posDfPrincipal], dfTabelaCotas[0]])\n",
    "    sleep(1)\n",
    "    posDfPrincipal += 1 \n",
    "    \n",
    "navegador.close()"
   ]
  },
  {
   "cell_type": "code",
   "execution_count": 7,
   "id": "92ef84a6",
   "metadata": {},
   "outputs": [],
   "source": [
    "nomesPlanilhas = ['Edificações',  'Eletrotécnica', 'Informática', 'Mecânica Industrial', 'Química', 'Telecomunicações']"
   ]
  },
  {
   "cell_type": "code",
   "execution_count": 11,
   "id": "38480400",
   "metadata": {},
   "outputs": [],
   "source": [
    "posNomes = 0\n",
    "with pd.ExcelWriter(\"resultado.xlsx\", mode=\"w\", engine=\"openpyxl\", ) as writer:\n",
    "    for df in listaDfPrincipal:\n",
    "        df.to_excel(writer, sheet_name=nomesPlanilhas[posNomes], index=False)\n",
    "        posNomes += 1"
   ]
  }
 ],
 "metadata": {
  "kernelspec": {
   "display_name": "Python 3 (ipykernel)",
   "language": "python",
   "name": "python3"
  },
  "language_info": {
   "codemirror_mode": {
    "name": "ipython",
    "version": 3
   },
   "file_extension": ".py",
   "mimetype": "text/x-python",
   "name": "python",
   "nbconvert_exporter": "python",
   "pygments_lexer": "ipython3",
   "version": "3.9.12"
  }
 },
 "nbformat": 4,
 "nbformat_minor": 5
}
